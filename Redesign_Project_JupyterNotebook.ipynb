{
 "cells": [
  {
   "cell_type": "markdown",
   "metadata": {
    "collapsed": true
   },
   "source": [
    "# The Redesign project - Jupyter notebook \n",
    "\n",
    "Import pandas to fetch the excel file saved on the local machine, downloaded from Koemna.com. \n",
    "Read the workbook and sheet1."
   ]
  },
  {
   "cell_type": "code",
   "execution_count": 9,
   "metadata": {
    "collapsed": true
   },
   "outputs": [],
   "source": [
    "import pandas as pd\n",
    "\n",
    "#Read the whole workbook\n",
    "project1 = pd.ExcelFile(r\"C:\\Users\\Tanushree\\Desktop\\UNIVERSITY\\Quarter 4\\Dashboard\\Project1\\Internet_Usage_Data.xlsx\")\n",
    "\n",
    "#Read the sheet1\n",
    "sheet1 = pd.read_excel(r\"C:\\Users\\Tanushree\\Desktop\\UNIVERSITY\\Quarter 4\\Dashboard\\Project1\\Internet_Usage_Data.xlsx\",sheetname=0)"
   ]
  },
  {
   "cell_type": "markdown",
   "metadata": {},
   "source": [
    "Display the name of the sheet i.e. ObservationData"
   ]
  },
  {
   "cell_type": "code",
   "execution_count": 10,
   "metadata": {},
   "outputs": [
    {
     "name": "stdout",
     "output_type": "stream",
     "text": [
      "['ObservationData'] \n",
      "\n"
     ]
    }
   ],
   "source": [
    "read_sheet_names = project1.sheet_names\n",
    "print(read_sheet_names,\"\\n\")"
   ]
  },
  {
   "cell_type": "markdown",
   "metadata": {},
   "source": [
    "Display the records 1 to 5 in sheet1"
   ]
  },
  {
   "cell_type": "code",
   "execution_count": 14,
   "metadata": {},
   "outputs": [
    {
     "data": {
      "text/html": [
       "<div>\n",
       "<style>\n",
       "    .dataframe thead tr:only-child th {\n",
       "        text-align: right;\n",
       "    }\n",
       "\n",
       "    .dataframe thead th {\n",
       "        text-align: left;\n",
       "    }\n",
       "\n",
       "    .dataframe tbody tr th {\n",
       "        vertical-align: top;\n",
       "    }\n",
       "</style>\n",
       "<table border=\"1\" class=\"dataframe\">\n",
       "  <thead>\n",
       "    <tr style=\"text-align: right;\">\n",
       "      <th></th>\n",
       "      <th>Location Name</th>\n",
       "      <th>2000</th>\n",
       "      <th>2005</th>\n",
       "      <th>2010</th>\n",
       "      <th>2015</th>\n",
       "    </tr>\n",
       "  </thead>\n",
       "  <tbody>\n",
       "    <tr>\n",
       "      <th>1</th>\n",
       "      <td>Congo (Dem. Rep.)</td>\n",
       "      <td>0.005902</td>\n",
       "      <td>0.238038</td>\n",
       "      <td>0.72</td>\n",
       "      <td>3.800000</td>\n",
       "    </tr>\n",
       "    <tr>\n",
       "      <th>2</th>\n",
       "      <td>Rwanda</td>\n",
       "      <td>0.062831</td>\n",
       "      <td>0.556041</td>\n",
       "      <td>8.00</td>\n",
       "      <td>18.000000</td>\n",
       "    </tr>\n",
       "    <tr>\n",
       "      <th>3</th>\n",
       "      <td>Ghana</td>\n",
       "      <td>0.153615</td>\n",
       "      <td>1.831197</td>\n",
       "      <td>7.80</td>\n",
       "      <td>31.447852</td>\n",
       "    </tr>\n",
       "    <tr>\n",
       "      <th>4</th>\n",
       "      <td>Algeria</td>\n",
       "      <td>0.491706</td>\n",
       "      <td>5.843942</td>\n",
       "      <td>12.50</td>\n",
       "      <td>38.200000</td>\n",
       "    </tr>\n",
       "  </tbody>\n",
       "</table>\n",
       "</div>"
      ],
      "text/plain": [
       "       Location Name      2000      2005   2010       2015\n",
       "1  Congo (Dem. Rep.)  0.005902  0.238038   0.72   3.800000\n",
       "2             Rwanda  0.062831  0.556041   8.00  18.000000\n",
       "3              Ghana  0.153615  1.831197   7.80  31.447852\n",
       "4            Algeria  0.491706  5.843942  12.50  38.200000"
      ]
     },
     "execution_count": 14,
     "metadata": {},
     "output_type": "execute_result"
    }
   ],
   "source": [
    "sheet1[1:5]"
   ]
  },
  {
   "cell_type": "markdown",
   "metadata": {},
   "source": [
    "Drop the columns with unnecessary(not imparting any relevant info) information from the sheet."
   ]
  },
  {
   "cell_type": "code",
   "execution_count": 15,
   "metadata": {
    "collapsed": true
   },
   "outputs": [],
   "source": [
    "drop1 = ['Location','Location RegionId','Variable','Variable Name','Variable Code_2','Variable Definition','Scale','Variable Unit','Units']\n",
    "sheet1 = sheet1[[col for col in sheet1.columns if col not in drop1]]"
   ]
  },
  {
   "cell_type": "markdown",
   "metadata": {},
   "source": [
    "Displaying selected rows by putting label"
   ]
  },
  {
   "cell_type": "code",
   "execution_count": 16,
   "metadata": {},
   "outputs": [
    {
     "data": {
      "text/html": [
       "<div>\n",
       "<style>\n",
       "    .dataframe thead tr:only-child th {\n",
       "        text-align: right;\n",
       "    }\n",
       "\n",
       "    .dataframe thead th {\n",
       "        text-align: left;\n",
       "    }\n",
       "\n",
       "    .dataframe tbody tr th {\n",
       "        vertical-align: top;\n",
       "    }\n",
       "</style>\n",
       "<table border=\"1\" class=\"dataframe\">\n",
       "  <thead>\n",
       "    <tr style=\"text-align: right;\">\n",
       "      <th></th>\n",
       "      <th>Location Name</th>\n",
       "      <th>2000</th>\n",
       "      <th>2005</th>\n",
       "      <th>2010</th>\n",
       "      <th>2015</th>\n",
       "    </tr>\n",
       "  </thead>\n",
       "  <tbody>\n",
       "    <tr>\n",
       "      <th>0</th>\n",
       "      <td>Congo (Rep.)</td>\n",
       "      <td>0.026355</td>\n",
       "      <td>1.463420</td>\n",
       "      <td>5.00</td>\n",
       "      <td>7.615975</td>\n",
       "    </tr>\n",
       "    <tr>\n",
       "      <th>1</th>\n",
       "      <td>Congo (Dem. Rep.)</td>\n",
       "      <td>0.005902</td>\n",
       "      <td>0.238038</td>\n",
       "      <td>0.72</td>\n",
       "      <td>3.800000</td>\n",
       "    </tr>\n",
       "    <tr>\n",
       "      <th>2</th>\n",
       "      <td>Rwanda</td>\n",
       "      <td>0.062831</td>\n",
       "      <td>0.556041</td>\n",
       "      <td>8.00</td>\n",
       "      <td>18.000000</td>\n",
       "    </tr>\n",
       "    <tr>\n",
       "      <th>3</th>\n",
       "      <td>Ghana</td>\n",
       "      <td>0.153615</td>\n",
       "      <td>1.831197</td>\n",
       "      <td>7.80</td>\n",
       "      <td>31.447852</td>\n",
       "    </tr>\n",
       "    <tr>\n",
       "      <th>4</th>\n",
       "      <td>Algeria</td>\n",
       "      <td>0.491706</td>\n",
       "      <td>5.843942</td>\n",
       "      <td>12.50</td>\n",
       "      <td>38.200000</td>\n",
       "    </tr>\n",
       "    <tr>\n",
       "      <th>5</th>\n",
       "      <td>South Africa</td>\n",
       "      <td>5.348560</td>\n",
       "      <td>7.488543</td>\n",
       "      <td>24.00</td>\n",
       "      <td>51.919116</td>\n",
       "    </tr>\n",
       "  </tbody>\n",
       "</table>\n",
       "</div>"
      ],
      "text/plain": [
       "       Location Name      2000      2005   2010       2015\n",
       "0       Congo (Rep.)  0.026355  1.463420   5.00   7.615975\n",
       "1  Congo (Dem. Rep.)  0.005902  0.238038   0.72   3.800000\n",
       "2             Rwanda  0.062831  0.556041   8.00  18.000000\n",
       "3              Ghana  0.153615  1.831197   7.80  31.447852\n",
       "4            Algeria  0.491706  5.843942  12.50  38.200000\n",
       "5       South Africa  5.348560  7.488543  24.00  51.919116"
      ]
     },
     "execution_count": 16,
     "metadata": {},
     "output_type": "execute_result"
    }
   ],
   "source": [
    "sheet1.loc[0:5]"
   ]
  },
  {
   "cell_type": "markdown",
   "metadata": {},
   "source": [
    "Rename column 'Location name' as 'COUNTRY'"
   ]
  },
  {
   "cell_type": "code",
   "execution_count": 18,
   "metadata": {
    "collapsed": true
   },
   "outputs": [],
   "source": [
    "sheet1=sheet1.rename(columns = {'Location Name' : 'COUNTRY'})"
   ]
  },
  {
   "cell_type": "code",
   "execution_count": 19,
   "metadata": {},
   "outputs": [
    {
     "data": {
      "text/html": [
       "<div>\n",
       "<style>\n",
       "    .dataframe thead tr:only-child th {\n",
       "        text-align: right;\n",
       "    }\n",
       "\n",
       "    .dataframe thead th {\n",
       "        text-align: left;\n",
       "    }\n",
       "\n",
       "    .dataframe tbody tr th {\n",
       "        vertical-align: top;\n",
       "    }\n",
       "</style>\n",
       "<table border=\"1\" class=\"dataframe\">\n",
       "  <thead>\n",
       "    <tr style=\"text-align: right;\">\n",
       "      <th></th>\n",
       "      <th>COUNTRY</th>\n",
       "      <th>2000</th>\n",
       "      <th>2005</th>\n",
       "      <th>2010</th>\n",
       "      <th>2015</th>\n",
       "    </tr>\n",
       "  </thead>\n",
       "  <tbody>\n",
       "    <tr>\n",
       "      <th>0</th>\n",
       "      <td>Congo (Rep.)</td>\n",
       "      <td>0.026355</td>\n",
       "      <td>1.463420</td>\n",
       "      <td>5.00</td>\n",
       "      <td>7.615975</td>\n",
       "    </tr>\n",
       "    <tr>\n",
       "      <th>1</th>\n",
       "      <td>Congo (Dem. Rep.)</td>\n",
       "      <td>0.005902</td>\n",
       "      <td>0.238038</td>\n",
       "      <td>0.72</td>\n",
       "      <td>3.800000</td>\n",
       "    </tr>\n",
       "    <tr>\n",
       "      <th>2</th>\n",
       "      <td>Rwanda</td>\n",
       "      <td>0.062831</td>\n",
       "      <td>0.556041</td>\n",
       "      <td>8.00</td>\n",
       "      <td>18.000000</td>\n",
       "    </tr>\n",
       "    <tr>\n",
       "      <th>3</th>\n",
       "      <td>Ghana</td>\n",
       "      <td>0.153615</td>\n",
       "      <td>1.831197</td>\n",
       "      <td>7.80</td>\n",
       "      <td>31.447852</td>\n",
       "    </tr>\n",
       "    <tr>\n",
       "      <th>4</th>\n",
       "      <td>Algeria</td>\n",
       "      <td>0.491706</td>\n",
       "      <td>5.843942</td>\n",
       "      <td>12.50</td>\n",
       "      <td>38.200000</td>\n",
       "    </tr>\n",
       "    <tr>\n",
       "      <th>5</th>\n",
       "      <td>South Africa</td>\n",
       "      <td>5.348560</td>\n",
       "      <td>7.488543</td>\n",
       "      <td>24.00</td>\n",
       "      <td>51.919116</td>\n",
       "    </tr>\n",
       "  </tbody>\n",
       "</table>\n",
       "</div>"
      ],
      "text/plain": [
       "             COUNTRY      2000      2005   2010       2015\n",
       "0       Congo (Rep.)  0.026355  1.463420   5.00   7.615975\n",
       "1  Congo (Dem. Rep.)  0.005902  0.238038   0.72   3.800000\n",
       "2             Rwanda  0.062831  0.556041   8.00  18.000000\n",
       "3              Ghana  0.153615  1.831197   7.80  31.447852\n",
       "4            Algeria  0.491706  5.843942  12.50  38.200000\n",
       "5       South Africa  5.348560  7.488543  24.00  51.919116"
      ]
     },
     "execution_count": 19,
     "metadata": {},
     "output_type": "execute_result"
    }
   ],
   "source": [
    "sheet1.loc[0:5]"
   ]
  },
  {
   "cell_type": "markdown",
   "metadata": {},
   "source": [
    "Drop the rows, not informational. Drop empty rows if all values of the rows are NaN."
   ]
  },
  {
   "cell_type": "code",
   "execution_count": 20,
   "metadata": {
    "collapsed": true
   },
   "outputs": [],
   "source": [
    "sheet1.drop(sheet1.index[194:196])\n",
    "\n",
    "sheet1 = sheet1.dropna(axis=0,how='all')"
   ]
  },
  {
   "cell_type": "code",
   "execution_count": 21,
   "metadata": {},
   "outputs": [
    {
     "data": {
      "text/html": [
       "<div>\n",
       "<style>\n",
       "    .dataframe thead tr:only-child th {\n",
       "        text-align: right;\n",
       "    }\n",
       "\n",
       "    .dataframe thead th {\n",
       "        text-align: left;\n",
       "    }\n",
       "\n",
       "    .dataframe tbody tr th {\n",
       "        vertical-align: top;\n",
       "    }\n",
       "</style>\n",
       "<table border=\"1\" class=\"dataframe\">\n",
       "  <thead>\n",
       "    <tr style=\"text-align: right;\">\n",
       "      <th></th>\n",
       "      <th>COUNTRY</th>\n",
       "      <th>2000</th>\n",
       "      <th>2005</th>\n",
       "      <th>2010</th>\n",
       "      <th>2015</th>\n",
       "    </tr>\n",
       "  </thead>\n",
       "  <tbody>\n",
       "    <tr>\n",
       "      <th>0</th>\n",
       "      <td>Congo (Rep.)</td>\n",
       "      <td>0.026355</td>\n",
       "      <td>1.463420</td>\n",
       "      <td>5.00</td>\n",
       "      <td>7.615975</td>\n",
       "    </tr>\n",
       "    <tr>\n",
       "      <th>1</th>\n",
       "      <td>Congo (Dem. Rep.)</td>\n",
       "      <td>0.005902</td>\n",
       "      <td>0.238038</td>\n",
       "      <td>0.72</td>\n",
       "      <td>3.800000</td>\n",
       "    </tr>\n",
       "    <tr>\n",
       "      <th>2</th>\n",
       "      <td>Rwanda</td>\n",
       "      <td>0.062831</td>\n",
       "      <td>0.556041</td>\n",
       "      <td>8.00</td>\n",
       "      <td>18.000000</td>\n",
       "    </tr>\n",
       "    <tr>\n",
       "      <th>3</th>\n",
       "      <td>Ghana</td>\n",
       "      <td>0.153615</td>\n",
       "      <td>1.831197</td>\n",
       "      <td>7.80</td>\n",
       "      <td>31.447852</td>\n",
       "    </tr>\n",
       "    <tr>\n",
       "      <th>4</th>\n",
       "      <td>Algeria</td>\n",
       "      <td>0.491706</td>\n",
       "      <td>5.843942</td>\n",
       "      <td>12.50</td>\n",
       "      <td>38.200000</td>\n",
       "    </tr>\n",
       "  </tbody>\n",
       "</table>\n",
       "</div>"
      ],
      "text/plain": [
       "             COUNTRY      2000      2005   2010       2015\n",
       "0       Congo (Rep.)  0.026355  1.463420   5.00   7.615975\n",
       "1  Congo (Dem. Rep.)  0.005902  0.238038   0.72   3.800000\n",
       "2             Rwanda  0.062831  0.556041   8.00  18.000000\n",
       "3              Ghana  0.153615  1.831197   7.80  31.447852\n",
       "4            Algeria  0.491706  5.843942  12.50  38.200000"
      ]
     },
     "execution_count": 21,
     "metadata": {},
     "output_type": "execute_result"
    }
   ],
   "source": [
    "sheet1[0:5]"
   ]
  },
  {
   "cell_type": "markdown",
   "metadata": {},
   "source": [
    "Export the data to excel"
   ]
  },
  {
   "cell_type": "code",
   "execution_count": 22,
   "metadata": {
    "collapsed": true
   },
   "outputs": [],
   "source": [
    "# Create a Pandas Excel writer using XlsxWriter as the engine.\n",
    "import pandas as pd\n",
    "writer = pd.ExcelWriter('Cleaned_Internet.xlsx', engine='xlsxwriter')\n",
    "\n",
    "# Convert the dataframe to an XlsxWriter Excel object.\n",
    "sheet1.to_excel(writer, sheet_name='ObservationData')\n",
    "# Close the Pandas Excel writer and output the Excel file.\n",
    "writer.save()\n",
    "\n",
    "sheet1.to_excel('Clean_Internet1.xlsx',sheet_name='ObservationData', index=False)"
   ]
  }
 ],
 "metadata": {
  "kernelspec": {
   "display_name": "Python 3",
   "language": "python",
   "name": "python3"
  },
  "language_info": {
   "codemirror_mode": {
    "name": "ipython",
    "version": 3
   },
   "file_extension": ".py",
   "mimetype": "text/x-python",
   "name": "python",
   "nbconvert_exporter": "python",
   "pygments_lexer": "ipython3",
   "version": "3.6.1"
  }
 },
 "nbformat": 4,
 "nbformat_minor": 2
}
